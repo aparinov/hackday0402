{
 "cells": [
  {
   "cell_type": "markdown",
   "metadata": {},
   "source": [
    "# Общая схема работы с SNS\n",
    "\n",
    "1. Авторизация на сайте SNS\n",
    "- Создание приложения (App). Каждое приложение содержит идентификатор AppID, Access Token ( Access Token Secret, Consumer Key, Consumer Secret)\n",
    "- Используя ключи приложений, программа-клиент может получать доступ к функциям платформы\n",
    "- Большинство библиотек являются оберткой на Web API ( которое уже как правило REST)\n"
   ]
  },
  {
   "cell_type": "markdown",
   "metadata": {},
   "source": [
    "## [Twitter](https://dev.twitter.com/)\n",
    "\n",
    "- [Twitter Developer Documentation](https://dev.twitter.com/overview/api)\n",
    "- [Reference](https://dev.twitter.com/rest/reference)\n",
    "- [Python libs](https://dev.twitter.com/resources/twitter-libraries#python)\n"
   ]
  },
  {
   "cell_type": "markdown",
   "metadata": {},
   "source": [
    "1. Для работы с API Twitter нам потребуется создать новое приложение ( https://apps.twitter.com/ ), используя ключи которого мы будем присоединяться к нашему аккаунту в Twitter\n",
    "\n",
    "2. Создадим новое приложение перейдя по ссылке https://apps.twitter.com/app/new\n",
    "3. На странице заполним поля:\n",
    "    - Name: opendata-hse-twitter-bot-1\n",
    "    - Description: Test Application\n",
    "    - Web-site: http://ya.ru\n",
    "    - Callback URL: http://127.0.0.1:8080\n",
    "\n",
    "Name - название приложения. должно быть уникально. \n",
    "Web-site - сайт с публичной информацией о вашем приложении.\n",
    "\n",
    "После создания приложения должна появиться страница настроек приложения. Перейдите на закладку \"Keys and Access Tokens\""
   ]
  },
  {
   "cell_type": "markdown",
   "metadata": {},
   "source": [
    "![KEY1](http://i.imgur.com/zRblw4Y.png)"
   ]
  },
  {
   "cell_type": "markdown",
   "metadata": {},
   "source": [
    "Нажмите на кнопку \"Create access token\". Должен появиться дополнительный раздел"
   ]
  },
  {
   "cell_type": "markdown",
   "metadata": {},
   "source": [
    "![Key2](http://i.imgur.com/cJA6F6q.png)"
   ]
  },
  {
   "cell_type": "markdown",
   "metadata": {},
   "source": [
    " Добавьте в файл с учетными данными ключи\n",
    "1. consumer_key\n",
    "- consumer_secret\n",
    "- access_token_key\n",
    "- access_token_secret"
   ]
  },
  {
   "cell_type": "code",
   "execution_count": 4,
   "metadata": {
    "collapsed": false
   },
   "outputs": [],
   "source": [
    "# Создание переменных для ключей\n",
    "d = load_cred(\"pass\")\n",
    "consumer_key = d[\"twitter\"][\"consumer_key\"]\n",
    "consumer_secret = d[\"twitter\"][\"consumer_secret\"]\n",
    "access_token_key = d[\"twitter\"][\"access_token_key\"]\n",
    "access_token_secret = d[\"twitter\"][\"access_token_secret\"]"
   ]
  },
  {
   "cell_type": "markdown",
   "metadata": {},
   "source": [
    "### Tweepy\n",
    "\n",
    "- pip install tweepy\n",
    "- [Docs](http://tweepy.readthedocs.io/en/v3.5.0/)"
   ]
  },
  {
   "cell_type": "code",
   "execution_count": 5,
   "metadata": {
    "collapsed": false
   },
   "outputs": [],
   "source": [
    "# Авторизация \n",
    "import tweepy\n",
    "from tweepy import OAuthHandler\n",
    "\n",
    "'''\n",
    "consumer_key = 'YOUR-CONSUMER-KEY'\n",
    "consumer_secret = 'YOUR-CONSUMER-SECRET'\n",
    "access_token = 'YOUR-ACCESS-TOKEN'\n",
    "access_secret = 'YOUR-ACCESS-SECRET'\n",
    "'''\n",
    " \n",
    "auth = OAuthHandler(consumer_key, consumer_secret)\n",
    "auth.set_access_token(access_token_key, access_token_secret)\n",
    " \n",
    "api = tweepy.API(auth)"
   ]
  },
  {
   "cell_type": "code",
   "execution_count": null,
   "metadata": {
    "collapsed": false
   },
   "outputs": [],
   "source": [
    "# Итерирование объекто status c помощью объекта Cursor \n",
    "for status in tweepy.Cursor(api.home_timeline).items(10):\n",
    "    print(status.text)\n",
    "    #print(status.id)\n",
    "    # print(status._json) "
   ]
  },
  {
   "cell_type": "code",
   "execution_count": null,
   "metadata": {
    "collapsed": false
   },
   "outputs": [],
   "source": [
    "# получение друзей\n",
    "for friend in tweepy.Cursor(api.friends).items():\n",
    "    print(friend.name)\n",
    "    #print(friend._json)"
   ]
  },
  {
   "cell_type": "code",
   "execution_count": null,
   "metadata": {
    "collapsed": false
   },
   "outputs": [],
   "source": [
    "# Получение текста собственных сообщений пользователя\n",
    "for tweet in tweepy.Cursor(api.user_timeline).items():\n",
    "    print(tweet._json[\"text\"])"
   ]
  },
  {
   "cell_type": "code",
   "execution_count": null,
   "metadata": {
    "collapsed": false,
    "scrolled": true
   },
   "outputs": [],
   "source": [
    "for tweet in tweepy.Cursor(api.user_timeline,id=\"Mashable\").items(10):\n",
    "    print(tweet._json[\"text\"])"
   ]
  },
  {
   "cell_type": "code",
   "execution_count": 16,
   "metadata": {
    "collapsed": false
   },
   "outputs": [
    {
     "name": "stdout",
     "output_type": "stream",
     "text": [
      "[53011293, 326981966, 222479813, 231351005, 31775958, 171889651, 170288855, 170575038, 170627272, 170606060, 170645714, 173602125, 173682204, 170649357, 158646909, 158810237, 159049718, 158275318, 158389623, 154054400, 156944114, 61589914, 46921379, 21732827, 813286, 6149912]\n"
     ]
    }
   ],
   "source": [
    "import time\n",
    "ids = []\n",
    "for page in tweepy.Cursor(api.followers_ids, screen_name=\"aparinov\").pages():\n",
    "    ids.extend(page)\n",
    "    #time.sleep(15*60)\n",
    "print(ids)"
   ]
  },
  {
   "cell_type": "code",
   "execution_count": 17,
   "metadata": {
    "collapsed": false
   },
   "outputs": [],
   "source": [
    "# поиск \n",
    "screen_names = [user.screen_name for user in api.lookup_users(user_ids=ids)]\n",
    "print(screen_names)"
   ]
  },
  {
   "cell_type": "code",
   "execution_count": 20,
   "metadata": {
    "collapsed": false
   },
   "outputs": [
    {
     "name": "stdout",
     "output_type": "stream",
     "text": [
      "[53011293, 326981966, 222479813, 231351005, 31775958, 171889651, 170288855, 170575038, 170627272, 170606060, 170645714, 173602125, 173682204, 170649357, 158646909, 158810237, 159049718, 158275318, 158389623, 154054400, 156944114, 61589914, 46921379, 21732827, 813286, 6149912, 728660863528402944, 69475315, 1101578568, 956615832, 636368885, 46404596, 308540453, 309652898, 633912691, 100042654, 430547533, 302678648, 20518753, 728660863528402944, 69475315, 1101578568, 956615832, 636368885, 46404596, 308540453, 309652898, 633912691, 100042654, 430547533, 302678648, 20518753]\n"
     ]
    }
   ],
   "source": [
    "# поиск id follower конкретного пользователя\n",
    "for page in tweepy.Cursor(api.followers_ids, screen_name=\"nekhayiv\").pages():\n",
    "    ids.extend(page)\n",
    "print(ids)"
   ]
  },
  {
   "cell_type": "markdown",
   "metadata": {},
   "source": [
    "При обходе большого количества пользователей возникает ошибка [\"RateLimitError: [{'code': 88, 'message': 'Rate limit exceeded'}]\"](https://dev.twitter.com/rest/public/rate-limiting)"
   ]
  },
  {
   "cell_type": "markdown",
   "metadata": {},
   "source": [
    "Пример:\n",
    "for page in tweepy.Cursor(api.followers_ids, screen_name=\"McDonalds\").pages():\n",
    "    ids.extend(page)\n",
    "print(ids)"
   ]
  },
  {
   "cell_type": "markdown",
   "metadata": {
    "collapsed": true
   },
   "source": [
    "#### Для обхода ограничения надо использовать параллельные программы"
   ]
  },
  {
   "cell_type": "markdown",
   "metadata": {},
   "source": [
    "### Python-Twitter Lib\n",
    "\n",
    "1. Установите пакет python twitter набрав в консоли \n",
    "    pip install python-twitter\n",
    "\n",
    "2. Создайте переменные для ключей"
   ]
  },
  {
   "cell_type": "code",
   "execution_count": null,
   "metadata": {
    "collapsed": true
   },
   "outputs": [],
   "source": [
    "import twitter\n",
    "api = twitter.Api(consumer_key=consumer_key,\n",
    "                  consumer_secret=consumer_secret,\n",
    "                  access_token_key=access_token_key,\n",
    "                  access_token_secret=access_token_secret)"
   ]
  },
  {
   "cell_type": "code",
   "execution_count": null,
   "metadata": {
    "collapsed": false
   },
   "outputs": [],
   "source": [
    "#Опубликовать сообщение:\n",
    "\n",
    "api.PostUpdate(\"Robot message1\")"
   ]
  },
  {
   "cell_type": "code",
   "execution_count": null,
   "metadata": {
    "collapsed": false
   },
   "outputs": [],
   "source": [
    "users = api.GetFriends()\n",
    "print([u.screen_name for u in users])"
   ]
  },
  {
   "cell_type": "markdown",
   "metadata": {},
   "source": [
    "USERS = ['@twitter','@twitterapi','@support']"
   ]
  },
  {
   "cell_type": "code",
   "execution_count": null,
   "metadata": {
    "collapsed": false
   },
   "outputs": [],
   "source": [
    "statuses = api.GetUserTimeline(screen_name=\"@TechCrunch\",count=3,since_id=2)\n",
    "print(statuses)"
   ]
  },
  {
   "cell_type": "code",
   "execution_count": null,
   "metadata": {
    "collapsed": false
   },
   "outputs": [],
   "source": [
    "print([s.text for s in statuses])"
   ]
  },
  {
   "cell_type": "code",
   "execution_count": null,
   "metadata": {
    "collapsed": false
   },
   "outputs": [],
   "source": [
    "usr = api.GetUser(11594372)\n",
    "print(usr)"
   ]
  },
  {
   "cell_type": "code",
   "execution_count": null,
   "metadata": {
    "collapsed": false
   },
   "outputs": [],
   "source": [
    "api.GetUserTimeline(usr)"
   ]
  },
  {
   "cell_type": "raw",
   "metadata": {},
   "source": [
    "Функции API \n",
    "\n",
    ">>> api.PostUpdates(status)\n",
    ">>> api.PostDirectMessage(user, text)\n",
    ">>> api.GetUser(user)\n",
    ">>> api.GetReplies()\n",
    ">>> api.GetUserTimeline(user)\n",
    ">>> api.GetHomeTimeline()\n",
    ">>> api.GetStatus(status_id)\n",
    ">>> api.DestroyStatus(status_id)\n",
    ">>> api.GetFriends(user)\n",
    ">>> api.GetFollowers()\n",
    ">>> api.GetFeatured()\n",
    ">>> api.GetDirectMessages()\n",
    ">>> api.GetSentDirectMessages()\n",
    ">>> api.PostDirectMessage(user, text)\n",
    ">>> api.DestroyDirectMessage(message_id)\n",
    ">>> api.DestroyFriendship(user)\n",
    ">>> api.CreateFriendship(user)\n",
    ">>> api.LookupFriendship(user)\n",
    ">>> api.VerifyCredentials()"
   ]
  },
  {
   "cell_type": "raw",
   "metadata": {},
   "source": [
    "Help\n",
    "$ pydoc twitter.Status\n",
    "$ pydoc twitter.User\n",
    "$ pydoc twitter.DirectMessage"
   ]
  },
  {
   "cell_type": "markdown",
   "metadata": {},
   "source": [
    "References\n",
    "- [Python-Twitter Package](https://github.com/bear/python-twitter)\n",
    "- [Documentation](https://python-twitter.readthedocs.io/en/latest/getting_started.html)\n",
    "- [Examples](https://github.com/bear/python-twitter/tree/master/examples)\n"
   ]
  }
 ],
 "metadata": {
  "anaconda-cloud": {
   "summary": "Google API"
  },
  "kernelspec": {
   "display_name": "Python [default]",
   "language": "python",
   "name": "python3"
  },
  "language_info": {
   "codemirror_mode": {
    "name": "ipython",
    "version": 3
   },
   "file_extension": ".py",
   "mimetype": "text/x-python",
   "name": "python",
   "nbconvert_exporter": "python",
   "pygments_lexer": "ipython3",
   "version": "3.5.2"
  }
 },
 "nbformat": 4,
 "nbformat_minor": 1
}
